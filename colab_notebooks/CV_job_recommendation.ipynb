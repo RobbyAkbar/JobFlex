{
  "nbformat": 4,
  "nbformat_minor": 0,
  "metadata": {
    "colab": {
      "name": "CV_job_recommendation.ipynb",
      "provenance": []
    },
    "kernelspec": {
      "name": "python3",
      "display_name": "Python 3"
    },
    "language_info": {
      "name": "python"
    }
  },
  "cells": [
    {
      "cell_type": "markdown",
      "metadata": {
        "id": "sDvrDGsEwJt3"
      },
      "source": [
        "# B21-CAP0139\n",
        "Resource: https://github.com/ggeop/Job-Recommendation-Engine"
      ]
    },
    {
      "cell_type": "markdown",
      "metadata": {
        "id": "YvBvMGra0cEV"
      },
      "source": [
        "## Install and Import Libraries"
      ]
    },
    {
      "cell_type": "code",
      "metadata": {
        "colab": {
          "base_uri": "https://localhost:8080/"
        },
        "id": "YyW9B61ZYBuY",
        "outputId": "ec51a150-d18c-488d-a0f7-6b7d1be25f05"
      },
      "source": [
        "# Install PyPDF2\n",
        "!pip install PyPDF2"
      ],
      "execution_count": 1,
      "outputs": [
        {
          "output_type": "stream",
          "text": [
            "Collecting PyPDF2\n",
            "\u001b[?25l  Downloading https://files.pythonhosted.org/packages/b4/01/68fcc0d43daf4c6bdbc6b33cc3f77bda531c86b174cac56ef0ffdb96faab/PyPDF2-1.26.0.tar.gz (77kB)\n",
            "\r\u001b[K     |████▎                           | 10kB 16.5MB/s eta 0:00:01\r\u001b[K     |████████▌                       | 20kB 22.1MB/s eta 0:00:01\r\u001b[K     |████████████▊                   | 30kB 26.1MB/s eta 0:00:01\r\u001b[K     |█████████████████               | 40kB 28.8MB/s eta 0:00:01\r\u001b[K     |█████████████████████▏          | 51kB 30.7MB/s eta 0:00:01\r\u001b[K     |█████████████████████████▍      | 61kB 27.8MB/s eta 0:00:01\r\u001b[K     |█████████████████████████████▋  | 71kB 26.5MB/s eta 0:00:01\r\u001b[K     |████████████████████████████████| 81kB 9.3MB/s \n",
            "\u001b[?25hBuilding wheels for collected packages: PyPDF2\n",
            "  Building wheel for PyPDF2 (setup.py) ... \u001b[?25l\u001b[?25hdone\n",
            "  Created wheel for PyPDF2: filename=PyPDF2-1.26.0-cp37-none-any.whl size=61085 sha256=196c386be5b4ec9894b922fdb0094b0abda6616e77559b031e4e3d320ae51ca6\n",
            "  Stored in directory: /root/.cache/pip/wheels/53/84/19/35bc977c8bf5f0c23a8a011aa958acd4da4bbd7a229315c1b7\n",
            "Successfully built PyPDF2\n",
            "Installing collected packages: PyPDF2\n",
            "Successfully installed PyPDF2-1.26.0\n"
          ],
          "name": "stdout"
        }
      ]
    },
    {
      "cell_type": "code",
      "metadata": {
        "id": "BeQZlEn2YKWt"
      },
      "source": [
        "# Import library\n",
        "import tensorflow as tf\n",
        "from keras.models import Sequential\n",
        "from keras.layers import Conv1D, GlobalMaxPooling1D, Embedding\n",
        "from keras.layers.core import Dense, Dropout, Activation\n",
        "from keras.utils import np_utils\n",
        "from keras.preprocessing.text import Tokenizer\n",
        "from keras import metrics\n",
        "from keras.layers.embeddings import Embedding\n",
        "from keras.preprocessing.sequence import pad_sequences\n",
        "from keras.preprocessing.text import one_hot\n",
        "from keras.layers import Flatten\n",
        "from tensorflow.keras import regularizers\n",
        "\n",
        "from nltk import word_tokenize, pos_tag, chunk\n",
        "from pprint import pprint\n",
        "from nltk.corpus import stopwords\n",
        "from nltk.tokenize import RegexpTokenizer\n",
        "from nltk.stem import WordNetLemmatizer\n",
        "\n",
        "from pprint import pprint\n",
        "import pandas as pd\n",
        "import numpy as np\n",
        "\n",
        "from keras import optimizers\n",
        "from keras.layers import Dense\n",
        "from sklearn.model_selection import GridSearchCV\n",
        "from keras.wrappers.scikit_learn import KerasClassifier\n",
        "from sklearn.model_selection import train_test_split\n",
        "from sklearn.preprocessing import LabelBinarizer\n",
        "from keras.constraints import maxnorm\n",
        "from keras.preprocessing import sequence\n",
        "from keras.layers import Dropout\n",
        "import os\n",
        "\n",
        "import matplotlib.pyplot as plt\n",
        "import PyPDF2"
      ],
      "execution_count": 2,
      "outputs": []
    },
    {
      "cell_type": "code",
      "metadata": {
        "colab": {
          "base_uri": "https://localhost:8080/",
          "height": 35
        },
        "id": "dMFkbCwjrq8B",
        "outputId": "c3e5fc17-b616-4df3-ad0e-ea096b96339b"
      },
      "source": [
        "tf.__version__"
      ],
      "execution_count": 3,
      "outputs": [
        {
          "output_type": "execute_result",
          "data": {
            "application/vnd.google.colaboratory.intrinsic+json": {
              "type": "string"
            },
            "text/plain": [
              "'2.5.0'"
            ]
          },
          "metadata": {
            "tags": []
          },
          "execution_count": 3
        }
      ]
    },
    {
      "cell_type": "code",
      "metadata": {
        "colab": {
          "base_uri": "https://localhost:8080/"
        },
        "id": "vgVysRzvYnCs",
        "outputId": "601578d4-5661-4019-f30d-bd93d85202a2"
      },
      "source": [
        "# Mount to drive\n",
        "from google.colab import drive\n",
        "drive.mount('/content/gdrive')"
      ],
      "execution_count": 3,
      "outputs": [
        {
          "output_type": "stream",
          "text": [
            "Mounted at /content/gdrive\n"
          ],
          "name": "stdout"
        }
      ]
    },
    {
      "cell_type": "code",
      "metadata": {
        "id": "Kc9TclXucrK2"
      },
      "source": [
        "# Specify path to dataset\n",
        "path = '/content/gdrive/MyDrive/Capstone/Shared/ML'\n",
        "filename = 'Cleaned_Job_All.csv'\n",
        "data = pd.read_csv(os.path.join(path, filename), header = 0, names = ['Query', 'Description'])"
      ],
      "execution_count": 4,
      "outputs": []
    },
    {
      "cell_type": "markdown",
      "metadata": {
        "id": "kutku8c02Dqy"
      },
      "source": [
        "## Load and Split Dataset"
      ]
    },
    {
      "cell_type": "code",
      "metadata": {
        "colab": {
          "base_uri": "https://localhost:8080/",
          "height": 204
        },
        "id": "Uf4dyCgBc13e",
        "outputId": "a318173c-6937-4062-d0cf-a82f23ea9fa7"
      },
      "source": [
        "# Check loaded data\n",
        "data.head()"
      ],
      "execution_count": 9,
      "outputs": [
        {
          "output_type": "execute_result",
          "data": {
            "text/html": [
              "<div>\n",
              "<style scoped>\n",
              "    .dataframe tbody tr th:only-of-type {\n",
              "        vertical-align: middle;\n",
              "    }\n",
              "\n",
              "    .dataframe tbody tr th {\n",
              "        vertical-align: top;\n",
              "    }\n",
              "\n",
              "    .dataframe thead th {\n",
              "        text-align: right;\n",
              "    }\n",
              "</style>\n",
              "<table border=\"1\" class=\"dataframe\">\n",
              "  <thead>\n",
              "    <tr style=\"text-align: right;\">\n",
              "      <th></th>\n",
              "      <th>Query</th>\n",
              "      <th>Description</th>\n",
              "    </tr>\n",
              "  </thead>\n",
              "  <tbody>\n",
              "    <tr>\n",
              "      <th>0.0</th>\n",
              "      <td>Data Scientist</td>\n",
              "      <td>job description junior data scientist ibm work...</td>\n",
              "    </tr>\n",
              "    <tr>\n",
              "      <th>1.0</th>\n",
              "      <td>Data Scientist</td>\n",
              "      <td>overall summary data scientist data science so...</td>\n",
              "    </tr>\n",
              "    <tr>\n",
              "      <th>2.0</th>\n",
              "      <td>Data Scientist</td>\n",
              "      <td>team data science team newly formed applied re...</td>\n",
              "    </tr>\n",
              "    <tr>\n",
              "      <th>3.0</th>\n",
              "      <td>Data Scientist</td>\n",
              "      <td>need junior data scientist ny area remote succ...</td>\n",
              "    </tr>\n",
              "    <tr>\n",
              "      <th>4.0</th>\n",
              "      <td>Data Scientist</td>\n",
              "      <td>want help guide core business spotify using in...</td>\n",
              "    </tr>\n",
              "  </tbody>\n",
              "</table>\n",
              "</div>"
            ],
            "text/plain": [
              "              Query                                        Description\n",
              "0.0  Data Scientist  job description junior data scientist ibm work...\n",
              "1.0  Data Scientist  overall summary data scientist data science so...\n",
              "2.0  Data Scientist  team data science team newly formed applied re...\n",
              "3.0  Data Scientist  need junior data scientist ny area remote succ...\n",
              "4.0  Data Scientist  want help guide core business spotify using in..."
            ]
          },
          "metadata": {
            "tags": []
          },
          "execution_count": 9
        }
      ]
    },
    {
      "cell_type": "code",
      "metadata": {
        "colab": {
          "base_uri": "https://localhost:8080/"
        },
        "id": "4beDsvn-yinx",
        "outputId": "6d8bfe20-beb7-4965-b13d-dd87ceb0eb4a"
      },
      "source": [
        "# Check amount of data\n",
        "len(data)"
      ],
      "execution_count": 6,
      "outputs": [
        {
          "output_type": "execute_result",
          "data": {
            "text/plain": [
              "19900"
            ]
          },
          "metadata": {
            "tags": []
          },
          "execution_count": 6
        }
      ]
    },
    {
      "cell_type": "code",
      "metadata": {
        "colab": {
          "base_uri": "https://localhost:8080/"
        },
        "id": "wNNd06Pq3k3_",
        "outputId": "17cb4f48-741a-413c-b3d1-2d9bb61c6c49"
      },
      "source": [
        "# Check available job titles\n",
        "data['Query'].unique()"
      ],
      "execution_count": 7,
      "outputs": [
        {
          "output_type": "execute_result",
          "data": {
            "text/plain": [
              "array(['Data Scientist', 'Data Analyst', 'Data Architect',\n",
              "       'Data Engineer', 'Statistician', 'Database Administrator',\n",
              "       'Business Analyst', 'Data and Analytics Manager',\n",
              "       'Machine Learning Engineer', 'Artificial Intelligence Expert',\n",
              "       'Deep Learning Expert', 'Business Intelligence Analyst',\n",
              "       'Data Visualization Expert', 'Data Quality Manager',\n",
              "       'Big Data Engineer', 'Data Warehousing Analyst',\n",
              "       'Technology Integration Analyst', 'IT Consultant',\n",
              "       'IT Systems Administrator', 'Cloud Architect',\n",
              "       'Technical Operations Engineer', 'Cloud Services Developer',\n",
              "       'Full Stack Developer', 'Information Security Analyst',\n",
              "       'Network Architect', 'Architect', 'Chemical Engineer',\n",
              "       'Mechanical Engineer', 'Electrical Engineer', 'Civil Engineer',\n",
              "       'Teacher', 'Professor', 'Lawyer', 'Psychologist', 'Recruiter',\n",
              "       'Accountant', 'Financial Analyst', 'Investment Manager',\n",
              "       'Management Consultant', 'Auditor', 'Dentist',\n",
              "       'Nurse Practitioner', 'Pharmacist', 'Physician', 'Surgeon',\n",
              "       'Mobile Applications Developer', 'Social Media Manager'],\n",
              "      dtype=object)"
            ]
          },
          "metadata": {
            "tags": []
          },
          "execution_count": 7
        }
      ]
    },
    {
      "cell_type": "code",
      "metadata": {
        "id": "kYJrTTQuc7Oi"
      },
      "source": [
        "# Split data for training and testing\n",
        "train, test = train_test_split(data, test_size = 0.2, random_state = 42, shuffle = True)\n",
        "\n",
        "train_descs = train['Description']\n",
        "train_labels = train['Query']\n",
        " \n",
        "test_descs = test['Description']\n",
        "test_labels = test['Query']"
      ],
      "execution_count": 10,
      "outputs": []
    },
    {
      "cell_type": "markdown",
      "metadata": {
        "id": "JHgD46VZ6lVI"
      },
      "source": [
        "## Train the model"
      ]
    },
    {
      "cell_type": "code",
      "metadata": {
        "id": "OoH93us0ovLq"
      },
      "source": [
        "# Define parameters\n",
        "vocab_size = 3000\n",
        "sequences_length = 1200\n",
        "\n",
        "embedding_dim = 128\n",
        "max_features = 2500\n",
        "\n",
        "num_labels = len(train_labels.unique())\n",
        "batch_size = 32\n",
        "nb_epoch = 10\n",
        "\n",
        "filter = 200\n",
        "kernel_size = 16\n",
        "hidden_dims = 512"
      ],
      "execution_count": 16,
      "outputs": []
    },
    {
      "cell_type": "code",
      "metadata": {
        "id": "fsS7DjUWdACR"
      },
      "source": [
        "# Convert texts to numeric vectors using tokenizer\n",
        "tokenizer = Tokenizer(num_words=vocab_size)\n",
        "tokenizer.fit_on_texts(train_descs)\n",
        "\n",
        "x_train = tokenizer.texts_to_sequences(train_descs)\n",
        "x_test = tokenizer.texts_to_sequences(test_descs)\n",
        "\n",
        "x_train = sequence.pad_sequences(x_train, maxlen=sequences_length, padding='post')\n",
        "x_test = sequence.pad_sequences(x_test, maxlen=sequences_length, padding='post')\n",
        "\n",
        "encoder = LabelBinarizer()\n",
        "encoder.fit(train_labels)\n",
        "y_train = encoder.transform(train_labels)\n",
        "y_test = encoder.transform(test_labels)"
      ],
      "execution_count": 17,
      "outputs": []
    },
    {
      "cell_type": "code",
      "metadata": {
        "colab": {
          "base_uri": "https://localhost:8080/"
        },
        "id": "9tM1Cyw4a4EB",
        "outputId": "c1958314-f92e-4d9b-cf21-d7ab1724696c"
      },
      "source": [
        "encoder.classes_"
      ],
      "execution_count": null,
      "outputs": [
        {
          "output_type": "execute_result",
          "data": {
            "text/plain": [
              "array(['Accountant', 'Architect', 'Artificial Intelligence Expert',\n",
              "       'Auditor', 'Big Data Engineer', 'Business Analyst',\n",
              "       'Business Intelligence Analyst', 'Chemical Engineer',\n",
              "       'Civil Engineer', 'Cloud Architect', 'Cloud Services Developer',\n",
              "       'Data Analyst', 'Data Architect', 'Data Engineer',\n",
              "       'Data Quality Manager', 'Data Scientist',\n",
              "       'Data Visualization Expert', 'Data Warehousing Analyst',\n",
              "       'Data and Analytics Manager', 'Database Administrator',\n",
              "       'Deep Learning Expert', 'Dentist', 'Electrical Engineer',\n",
              "       'Financial Analyst', 'Full Stack Developer', 'IT Consultant',\n",
              "       'IT Systems Administrator', 'Information Security Analyst',\n",
              "       'Investment Manager', 'Lawyer', 'Machine Learning Engineer',\n",
              "       'Management Consultant', 'Mechanical Engineer',\n",
              "       'Mobile Applications Developer', 'Network Architect',\n",
              "       'Nurse Practitioner', 'Pharmacist', 'Physician', 'Professor',\n",
              "       'Psychologist', 'Recruiter', 'Social Media Manager',\n",
              "       'Statistician', 'Surgeon', 'Teacher',\n",
              "       'Technical Operations Engineer', 'Technology Integration Analyst'],\n",
              "      dtype='<U30')"
            ]
          },
          "metadata": {
            "tags": []
          },
          "execution_count": 27
        }
      ]
    },
    {
      "cell_type": "code",
      "metadata": {
        "id": "q-ogTFXvdQ8j"
      },
      "source": [
        "# Define and compile the model\n",
        "model = tf.keras.Sequential([\n",
        "    tf.keras.layers.Embedding(vocab_size, embedding_dim, input_length=sequences_length),\n",
        "    tf.keras.layers.Conv1D(filter, kernel_size, padding='valid', activation='relu', strides=1),\n",
        "    tf.keras.layers.GlobalMaxPooling1D(),\n",
        "    tf.keras.layers.Dense(hidden_dims, activation='relu'),\n",
        "    tf.keras.layers.Dropout(0.4),\n",
        "    tf.keras.layers.Dense(num_labels, activation='softmax')\n",
        "])\n",
        "\n",
        "model.compile(loss='categorical_crossentropy', \n",
        "              optimizer='adam',\n",
        "              metrics = ['accuracy'])"
      ],
      "execution_count": null,
      "outputs": []
    },
    {
      "cell_type": "code",
      "metadata": {
        "colab": {
          "base_uri": "https://localhost:8080/"
        },
        "id": "CzFMCDWcLAKv",
        "outputId": "a5620b6c-bf87-4a02-e131-b358c0962e90"
      },
      "source": [
        "# Model summary\n",
        "model.summary()"
      ],
      "execution_count": null,
      "outputs": [
        {
          "output_type": "stream",
          "text": [
            "Model: \"sequential\"\n",
            "_________________________________________________________________\n",
            "Layer (type)                 Output Shape              Param #   \n",
            "=================================================================\n",
            "embedding (Embedding)        (None, 1200, 128)         384000    \n",
            "_________________________________________________________________\n",
            "conv1d (Conv1D)              (None, 1185, 200)         409800    \n",
            "_________________________________________________________________\n",
            "global_max_pooling1d (Global (None, 200)               0         \n",
            "_________________________________________________________________\n",
            "dense (Dense)                (None, 512)               102912    \n",
            "_________________________________________________________________\n",
            "dropout (Dropout)            (None, 512)               0         \n",
            "_________________________________________________________________\n",
            "dense_1 (Dense)              (None, 47)                24111     \n",
            "=================================================================\n",
            "Total params: 920,823\n",
            "Trainable params: 920,823\n",
            "Non-trainable params: 0\n",
            "_________________________________________________________________\n"
          ],
          "name": "stdout"
        }
      ]
    },
    {
      "cell_type": "code",
      "metadata": {
        "colab": {
          "base_uri": "https://localhost:8080/"
        },
        "id": "jVK8JAcQdVeI",
        "outputId": "9eada8f5-c4e9-4172-c1db-6881a1bce93e"
      },
      "source": [
        "history = model.fit(x_train, y_train,\n",
        "                    batch_size=batch_size,\n",
        "                    epochs=nb_epoch,\n",
        "                    verbose=True,\n",
        "                    validation_split=0.2)"
      ],
      "execution_count": null,
      "outputs": [
        {
          "output_type": "stream",
          "text": [
            "Epoch 1/10\n",
            "398/398 [==============================] - 46s 42ms/step - loss: 3.1499 - accuracy: 0.1694 - val_loss: 1.8800 - val_accuracy: 0.4472\n",
            "Epoch 2/10\n",
            "398/398 [==============================] - 16s 41ms/step - loss: 1.4370 - accuracy: 0.5686 - val_loss: 1.0692 - val_accuracy: 0.6862\n",
            "Epoch 3/10\n",
            "398/398 [==============================] - 16s 41ms/step - loss: 0.7932 - accuracy: 0.7615 - val_loss: 0.9336 - val_accuracy: 0.7249\n",
            "Epoch 4/10\n",
            "398/398 [==============================] - 16s 41ms/step - loss: 0.4694 - accuracy: 0.8596 - val_loss: 0.9307 - val_accuracy: 0.7406\n",
            "Epoch 5/10\n",
            "398/398 [==============================] - 16s 41ms/step - loss: 0.2810 - accuracy: 0.9270 - val_loss: 1.0021 - val_accuracy: 0.7299\n",
            "Epoch 6/10\n",
            "398/398 [==============================] - 16s 40ms/step - loss: 0.1938 - accuracy: 0.9548 - val_loss: 1.0473 - val_accuracy: 0.7453\n",
            "Epoch 7/10\n",
            "398/398 [==============================] - 16s 40ms/step - loss: 0.1584 - accuracy: 0.9687 - val_loss: 1.0345 - val_accuracy: 0.7456\n",
            "Epoch 8/10\n",
            "398/398 [==============================] - 16s 40ms/step - loss: 0.1263 - accuracy: 0.9759 - val_loss: 1.1273 - val_accuracy: 0.7409\n",
            "Epoch 9/10\n",
            "398/398 [==============================] - 16s 40ms/step - loss: 0.1131 - accuracy: 0.9787 - val_loss: 1.1024 - val_accuracy: 0.7509\n",
            "Epoch 10/10\n",
            "398/398 [==============================] - 16s 40ms/step - loss: 0.1002 - accuracy: 0.9810 - val_loss: 1.1576 - val_accuracy: 0.7553\n"
          ],
          "name": "stdout"
        }
      ]
    },
    {
      "cell_type": "code",
      "metadata": {
        "colab": {
          "base_uri": "https://localhost:8080/",
          "height": 295
        },
        "id": "jRAvYcf0imaJ",
        "outputId": "7156b47f-d958-4756-c94d-a588f2537338"
      },
      "source": [
        "plt.plot(history.history['loss'])\n",
        "plt.plot(history.history['val_loss'])\n",
        "plt.title('model loss')\n",
        "plt.ylabel('loss')\n",
        "plt.xlabel('epoch')\n",
        "plt.legend(['train', 'test'], loc='upper left')\n",
        "plt.show()"
      ],
      "execution_count": null,
      "outputs": [
        {
          "output_type": "display_data",
          "data": {
            "image/png": "[encoded data removed]",
            "text/plain": [
              "<Figure size 432x288 with 1 Axes>"
            ]
          },
          "metadata": {
            "tags": [],
            "needs_background": "light"
          }
        }
      ]
    },
    {
      "cell_type": "markdown",
      "metadata": {
        "id": "GuyUOWViMZzE"
      },
      "source": [
        "## Save Model"
      ]
    },
    {
      "cell_type": "code",
      "metadata": {
        "colab": {
          "base_uri": "https://localhost:8080/"
        },
        "id": "Wv4nauouz9Zu",
        "outputId": "890b7d4f-34b6-4bb3-c2d8-8d3a2d2248eb"
      },
      "source": [
        "tf.saved_model.save(model,'/content/gdrive/My Drive/saved_model')"
      ],
      "execution_count": null,
      "outputs": [
        {
          "output_type": "stream",
          "text": [
            "WARNING:tensorflow:FOR KERAS USERS: The object that you are saving contains one or more Keras models or layers. If you are loading the SavedModel with `tf.keras.models.load_model`, continue reading (otherwise, you may ignore the following instructions). Please change your code to save with `tf.keras.models.save_model` or `model.save`, and confirm that the file \"keras.metadata\" exists in the export directory. In the future, Keras will only load the SavedModels that have this file. In other words, `tf.saved_model.save` will no longer write SavedModels that can be recovered as Keras models (this will apply in TF 2.5).\n",
            "\n",
            "FOR DEVS: If you are overwriting _tracking_metadata in your class, this property has been used to save metadata in the SavedModel. The metadta field will be deprecated soon, so please move the metadata to a different file.\n",
            "INFO:tensorflow:Assets written to: /content/gdrive/My Drive/saved_model/assets\n"
          ],
          "name": "stdout"
        }
      ]
    },
    {
      "cell_type": "markdown",
      "metadata": {
        "id": "C79qrk6qMcwv"
      },
      "source": [
        "## Load CV and Predict"
      ]
    },
    {
      "cell_type": "code",
      "metadata": {
        "id": "F32sVXo9W2io",
        "colab": {
          "base_uri": "https://localhost:8080/"
        },
        "outputId": "670efd08-f3d0-4850-deb1-6f8a0051c8e0"
      },
      "source": [
        "model = tf.keras.models.load_model('/content/gdrive/MyDrive/Capstone/Shared/ML/saved_model')"
      ],
      "execution_count": 11,
      "outputs": [
        {
          "output_type": "stream",
          "text": [
            "WARNING:tensorflow:SavedModel saved prior to TF 2.5 detected when loading Keras model. Please ensure that you are saving the model with model.save() or tf.keras.models.save_model(), *NOT* tf.saved_model.save(). To confirm, there should be a file named \"keras_metadata.pb\" in the SavedModel directory.\n"
          ],
          "name": "stdout"
        }
      ]
    },
    {
      "cell_type": "code",
      "metadata": {
        "colab": {
          "base_uri": "https://localhost:8080/"
        },
        "id": "9Oo_W9sP_Sjm",
        "outputId": "fca640bd-2814-42ee-d60b-a3fe42f6e3fc"
      },
      "source": [
        "pdf_file = '/content/gdrive/My Drive/Capstone/Shared/ML/Curriculum Vitae.pdf'\n",
        "\n",
        "pdf_read = PyPDF2.PdfFileReader(pdf_file)\n",
        "page = pdf_read.getPage(0)\n",
        "page_content = page.extractText()\n",
        "\n",
        "print(page_content)"
      ],
      "execution_count": 12,
      "outputs": [
        {
          "output_type": "stream",
          "text": [
            " \n",
            "rm\n",
            " \n",
            "Rafif\n",
            " \n",
            "Rahman\n",
            " \n",
            "Darmawan\n",
            " \n",
            "Electrical Engineer\n",
            " \n",
            " \n",
            " \n",
            "Experience\n",
            " \n",
            "Orga\n",
            "nization\n",
            " \n",
            "Achievements\n",
            " \n",
            "Education\n",
            " \n",
            "Final year undergraduate student at Institut Teknologi Bandung majoring in Electrical \n",
            "Engineerin\n",
            "g\n",
            " \n",
            "with a GPA of 3.57\n",
            ".\n",
            " \n",
            "Have huge interests in the development of technology and it's \n",
            "application. Experienced working on field as a Field Engineer in a multinational company as well \n",
            "as working as an IoT Engineer in an emerging start\n",
            "-\n",
            "up. Possess wide range of skills in \n",
            "Programmin\n",
            "g \n",
            "using \n",
            "Python, C, and Java, hardware design/interfacing \n",
            "using \n",
            "Arduino and \n",
            "Raspberry Pi and engineering simulation software \n",
            "using\n",
            " \n",
            "MATLAB, LTSpice and Webots. Looking \n",
            "forward to work as an engineer in related fields in a growth\n",
            "-\n",
            "oriented company.\n",
            " \n",
            "Personal Info\n",
            " \n",
            " \n",
            " \n",
            "Languages\n",
            " \n",
            " \n",
            " \n",
            "Jun 2019\n",
            " \n",
            "\n",
            " \n",
            "Aug 2019\n",
            " \n",
            "Sep 2019\n",
            " \n",
            "\n",
            " \n",
            " \n",
            "Present\n",
            " \n",
            " \n",
            " \n",
            " \n",
            " \n",
            "Sep 2019\n",
            " \n",
            " \n",
            " \n",
            " \n",
            " \n",
            " \n",
            " \n",
            " \n",
            " \n",
            " \n",
            " \n",
            " \n",
            " \n",
            " \n",
            " \n",
            "Jul 2019\n",
            " \n",
            " \n",
            " \n",
            " \n",
            " \n",
            "Jun 2017\n",
            " \n",
            " \n",
            " \n",
            "2013\n",
            " \n",
            "-\n",
            " \n",
            "2014\n",
            " \n",
            " \n",
            "2014\n",
            " \n",
            "-\n",
            " \n",
            " \n",
            "2017\n",
            " \n",
            " \n",
            "2017\n",
            " \n",
            "\n",
            " \n",
            " \n",
            "Present\n",
            " \n",
            " \n",
            " \n",
            "Address\n",
            " \n",
            "Jl. Gamprit 3 No. 58, \n",
            "Jatiwaringin, Pondok Gede, \n",
            "Bekasi, Indonesia\n",
            " \n",
            " \n",
            "Phone\n",
            " \n",
            "+6285966593933\n",
            " \n",
            " \n",
            "Email\n",
            " \n",
            "rafifrahman@gmail.com\n",
            " \n",
            " \n",
            "LinkedIn\n",
            " \n",
            "linkedin.com/in/rafif\n",
            "-\n",
            "rahman\n",
            "-\n",
            "darmawan/\n",
            " \n",
            " \n",
            " \n",
            " \n",
            " \n",
            " \n",
            " \n",
            "Indonesian\n",
            " \n",
            "| \n",
            "Native Speaker\n",
            " \n",
            " \n",
            "English\n",
            " \n",
            "| \n",
            "High proficien\n",
            "cy\n",
            " \n",
            " \n",
            "German\n",
            " \n",
            "| \n",
            "Very good command\n",
            " \n",
            " \n",
            " \n",
            " \n",
            " \n",
            " \n",
            " \n",
            "Wireline Segment Internship\n",
            " \n",
            "Schlumberger Indonesia: Global oilfield services & equipments\n",
            " \n",
            "\n",
            " \n",
            " \n",
            "Selected as 20 out of 400+ intern candidates for Schlumberger\n",
            "                                                                             \n",
            "Vacation Trainee 2019\n",
            " \n",
            "\n",
            " \n",
            " \n",
            "Le\n",
            "a\n",
            "d a project for wireline tools calibration tracker\n",
            " \n",
            "\n",
            " \n",
            " \n",
            "Performe\n",
            "d\n",
            " \n",
            "wireline tools maintenance and operational check\n",
            " \n",
            " \n",
            "IoT Engineer\n",
            " \n",
            "Internship\n",
            " \n",
            "Stada\n",
            ": \n",
            "Startup company engaging in technology for waste reduction.\n",
            " \n",
            "\n",
            " \n",
            " \n",
            "Responsible \n",
            "for\n",
            " \n",
            "design\n",
            "ing\n",
            " \n",
            "and implement\n",
            "ing an\n",
            " \n",
            "Internet of Things\n",
            " \n",
            "(IoT) \n",
            "device for waste reduction project by integrating data analytics platform \n",
            "and Artificial Intelligence\n",
            " \n",
            " \n",
            "Electronics Laborator\n",
            "y Assistant\n",
            " \n",
            "Institut Teknologi Bandung\n",
            " \n",
            "\n",
            " \n",
            " \n",
            "Responsible for supervising students to conduct experiments in \n",
            "Electronics Laboratory\n",
            " \n",
            " \n",
            " \n",
            " \n",
            " \n",
            " \n",
            " \n",
            " \n",
            "Head of Public Relation Ministry\n",
            " \n",
            "Electrical \n",
            "Engineering\n",
            " \n",
            "ITB Student Association\n",
            " \n",
            "Schedule and conduct meetings with student associations, companies, and \n",
            "other external parties for collaboration opportunities and networking \n",
            "purposes \n",
            " \n",
            " \n",
            "Head of Event\n",
            " \n",
            "\n",
            " \n",
            "Institute of \n",
            "Electrical Engineers ITB Student Branch (IEEE ITB SB)\n",
            " \n",
            "Le\n",
            "a\n",
            "d a seminar which is included in several events held by the organization \n",
            "with \n",
            "a \n",
            "total \n",
            "of \n",
            "1000+ participants\n",
            " \n",
            " \n",
            " \n",
            "First\n",
            " \n",
            "Winner Business Plan Competition\n",
            " \n",
            "Brawijaya Enterpreneur Festival 2019\n",
            " \n",
            "Developed a\n",
            " \n",
            "web\n",
            "-\n",
            "based platform application\n",
            " \n",
            "for educational \n",
            "purpose\n",
            " \n",
            "Competed againts 200+ group of participants from various universities\n",
            " \n",
            " \n",
            "De\n",
            "ut\n",
            "sche Physikalische Gesellschaft \n",
            "-\n",
            " \n",
            "Abiturpreis\n",
            " \n",
            "German Physicists Assocation\n",
            " \n",
            "Received an award upon an outstanding p\n",
            "erformance in subject Physics in \n",
            "the German National Examination 2017\n",
            " \n",
            " \n",
            " \n",
            " \n",
            "SMAN 8 Jakarta\n",
            " \n",
            "Science Major\n",
            " \n",
            " \n",
            "Gymnasium Hochrad Hamburg\n",
            " \n",
            "Physics, Mathematics, Informatics, and Economics major\n",
            " \n",
            " \n",
            "Institut Teknologi Bandung\n",
            " \n",
            "Bachelor in Electrical Engineering \n",
            "\n",
            " \n",
            "expected 2021\n",
            " \n",
            " \n",
            " \n",
            "Jun 2020\n",
            " \n",
            "\n",
            " \n",
            " \n",
            "Aug 2020\n",
            " \n",
            "Aug 2020\n",
            " \n",
            "\n",
            " \n",
            " \n",
            "Jan 2021\n",
            " \n",
            "Certifications\n",
            " \n",
            " \n",
            " \n",
            "Goo\n",
            "gle IT Automation with \n",
            "Python\n",
            " \n",
            "Google via Coursera\n",
            " \n",
            "Feb 2021\n",
            " \n",
            " \n",
            " \n",
            "Mathematics for Machine \n",
            "Learning: Linear Algebra\n",
            " \n",
            "Imperial College London\n",
            " \n",
            "via Coursera \n",
            "Feb 2021\n",
            " \n",
            " \n",
            " \n",
            " \n",
            " \n",
            "\n"
          ],
          "name": "stdout"
        }
      ]
    },
    {
      "cell_type": "code",
      "metadata": {
        "colab": {
          "base_uri": "https://localhost:8080/"
        },
        "id": "E0VTqZguiyYe",
        "outputId": "1eac010d-9a02-46cb-d734-7cc52003e50a"
      },
      "source": [
        "token_list = tokenizer.texts_to_sequences([page_content])[0]\n",
        "token_list = pad_sequences([token_list], maxlen=1200, padding='post')\n",
        "predicted = model.predict(token_list, verbose=0)\n",
        "\n",
        "print(np.argmax(predicted))"
      ],
      "execution_count": 19,
      "outputs": [
        {
          "output_type": "stream",
          "text": [
            "2\n"
          ],
          "name": "stdout"
        }
      ]
    },
    {
      "cell_type": "code",
      "metadata": {
        "colab": {
          "base_uri": "https://localhost:8080/"
        },
        "id": "x2lGC4AGQrl8",
        "outputId": "715e937e-12dc-42bf-d032-7e2a9f2a8ecd"
      },
      "source": [
        "list(encoder.classes_)"
      ],
      "execution_count": null,
      "outputs": [
        {
          "output_type": "execute_result",
          "data": {
            "text/plain": [
              "['Accountant',\n",
              " 'Architect',\n",
              " 'Artificial Intelligence Expert',\n",
              " 'Auditor',\n",
              " 'Big Data Engineer',\n",
              " 'Business Analyst',\n",
              " 'Business Intelligence Analyst',\n",
              " 'Chemical Engineer',\n",
              " 'Civil Engineer',\n",
              " 'Cloud Architect',\n",
              " 'Cloud Services Developer',\n",
              " 'Data Analyst',\n",
              " 'Data Architect',\n",
              " 'Data Engineer',\n",
              " 'Data Quality Manager',\n",
              " 'Data Scientist',\n",
              " 'Data Visualization Expert',\n",
              " 'Data Warehousing Analyst',\n",
              " 'Data and Analytics Manager',\n",
              " 'Database Administrator',\n",
              " 'Deep Learning Expert',\n",
              " 'Dentist',\n",
              " 'Electrical Engineer',\n",
              " 'Financial Analyst',\n",
              " 'Full Stack Developer',\n",
              " 'IT Consultant',\n",
              " 'IT Systems Administrator',\n",
              " 'Information Security Analyst',\n",
              " 'Investment Manager',\n",
              " 'Lawyer',\n",
              " 'Machine Learning Engineer',\n",
              " 'Management Consultant',\n",
              " 'Mechanical Engineer',\n",
              " 'Mobile Applications Developer',\n",
              " 'Network Architect',\n",
              " 'Nurse Practitioner',\n",
              " 'Pharmacist',\n",
              " 'Physician',\n",
              " 'Professor',\n",
              " 'Psychologist',\n",
              " 'Recruiter',\n",
              " 'Social Media Manager',\n",
              " 'Statistician',\n",
              " 'Surgeon',\n",
              " 'Teacher',\n",
              " 'Technical Operations Engineer',\n",
              " 'Technology Integration Analyst']"
            ]
          },
          "metadata": {
            "tags": []
          },
          "execution_count": 23
        }
      ]
    }
  ]
}