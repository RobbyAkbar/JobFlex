{
  "nbformat": 4,
  "nbformat_minor": 0,
  "metadata": {
    "colab": {
      "name": "collaborative_filtering_recommendation.ipynb",
      "provenance": [],
      "collapsed_sections": []
    },
    "kernelspec": {
      "name": "python3",
      "display_name": "Python 3"
    },
    "language_info": {
      "name": "python"
    }
  },
  "cells": [
    {
      "cell_type": "markdown",
      "metadata": {
        "id": "brTCd5ThKkxD"
      },
      "source": [
        "#Import Libraries"
      ]
    },
    {
      "cell_type": "code",
      "metadata": {
        "id": "KsdJFsvWHIjD"
      },
      "source": [
        "#Import Libraries\n",
        "\n",
        "%matplotlib inline\n",
        "import matplotlib.pyplot as plt\n",
        "import seaborn as sns\n",
        "import pandas as pd\n",
        "import numpy as np\n",
        "import ast \n",
        "from scipy import stats\n",
        "from ast import literal_eval\n",
        "from sklearn.feature_extraction.text import TfidfVectorizer, CountVectorizer\n",
        "from sklearn.metrics.pairwise import linear_kernel, cosine_similarity\n",
        "from keras.layers import Input, Embedding, Reshape, Dot, Concatenate, Dense, Dropout\n",
        "from keras.models import Model\n",
        "\n",
        "import warnings; warnings.simplefilter('ignore')"
      ],
      "execution_count": null,
      "outputs": []
    },
    {
      "cell_type": "code",
      "metadata": {
        "id": "-rwer8tcHS0k"
      },
      "source": [
        "# Install Kaggle API\n",
        "!pip install -q kaggle"
      ],
      "execution_count": null,
      "outputs": []
    },
    {
      "cell_type": "code",
      "metadata": {
        "colab": {
          "resources": {
            "http://localhost:8080/nbextensions/google.colab/files.js": {
              "data": "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",
              "ok": true,
              "headers": [
                [
                  "content-type",
                  "application/javascript"
                ]
              ],
              "status": 200,
              "status_text": ""
            }
          },
          "base_uri": "https://localhost:8080/",
          "height": 91
        },
        "id": "mtdyhU2pIIIs",
        "outputId": "3cc20a46-c902-4413-ed3f-52a1f3ecb6a7"
      },
      "source": [
        "# Upload Kaggle JSON file\n",
        "from google.colab import files\n",
        "files.upload()"
      ],
      "execution_count": null,
      "outputs": [
        {
          "output_type": "display_data",
          "data": {
            "text/html": [
              "\n",
              "     <input type=\"file\" id=\"files-1d3012ad-6d29-47cc-91fb-a205bcb1b30a\" name=\"files[]\" multiple disabled\n",
              "        style=\"border:none\" />\n",
              "     <output id=\"result-1d3012ad-6d29-47cc-91fb-a205bcb1b30a\">\n",
              "      Upload widget is only available when the cell has been executed in the\n",
              "      current browser session. Please rerun this cell to enable.\n",
              "      </output>\n",
              "      <script src=\"/nbextensions/google.colab/files.js\"></script> "
            ],
            "text/plain": [
              "<IPython.core.display.HTML object>"
            ]
          },
          "metadata": {
            "tags": []
          }
        },
        {
          "output_type": "stream",
          "text": [
            "Saving kaggle.json to kaggle.json\n"
          ],
          "name": "stdout"
        },
        {
          "output_type": "execute_result",
          "data": {
            "text/plain": [
              "{'kaggle.json': b'{\"username\":\"rafifdarmawan\",\"key\":\"162bfb2f0699e56854667a8ba8a5d7ca\"}'}"
            ]
          },
          "metadata": {
            "tags": []
          },
          "execution_count": 3
        }
      ]
    },
    {
      "cell_type": "code",
      "metadata": {
        "colab": {
          "base_uri": "https://localhost:8080/"
        },
        "id": "J5-weweVIOYY",
        "outputId": "9ae4a754-84bc-4b15-a2a5-c02d50fc2873"
      },
      "source": [
        "# Copy file to new directory\n",
        "try: \n",
        "  !mkdir ~/.kaggle\n",
        "  !cp kaggle.json ~/.kaggle/\n",
        "  !chmod 600 ~/.kaggle/kaggle.json\n",
        "except FileExistsError:\n",
        "  pass"
      ],
      "execution_count": null,
      "outputs": [
        {
          "output_type": "stream",
          "text": [
            "mkdir: cannot create directory ‘/root/.kaggle’: File exists\n"
          ],
          "name": "stdout"
        }
      ]
    },
    {
      "cell_type": "code",
      "metadata": {
        "colab": {
          "base_uri": "https://localhost:8080/"
        },
        "id": "ZlqRVg4HIRK-",
        "outputId": "df7e14ca-c545-4268-8d52-3e289ca6570f"
      },
      "source": [
        "# Download Datasets\n",
        "\n",
        "!kaggle competitions download -c job-recommendation"
      ],
      "execution_count": null,
      "outputs": [
        {
          "output_type": "stream",
          "text": [
            "Warning: Looks like you're using an outdated API Version, please consider updating (server 1.5.12 / client 1.5.4)\n",
            "Downloading test_users.zip to /content\n",
            "  0% 0.00/76.2k [00:00<?, ?B/s]\n",
            "100% 76.2k/76.2k [00:00<00:00, 61.7MB/s]\n",
            "Downloading user_history.zip to /content\n",
            " 55% 9.00M/16.5M [00:00<00:00, 23.8MB/s]\n",
            "100% 16.5M/16.5M [00:00<00:00, 33.5MB/s]\n",
            "Downloading popular_jobs.py to /content\n",
            "  0% 0.00/2.66k [00:00<?, ?B/s]\n",
            "100% 2.66k/2.66k [00:00<00:00, 2.72MB/s]\n",
            "Downloading window_dates.tsv to /content\n",
            "  0% 0.00/493 [00:00<?, ?B/s]\n",
            "100% 493/493 [00:00<00:00, 1.40MB/s]\n",
            "Downloading jobs.zip to /content\n",
            " 98% 658M/671M [00:08<00:00, 135MB/s]\n",
            "100% 671M/671M [00:08<00:00, 84.3MB/s]\n",
            "Downloading popular_jobs.csv.zip to /content\n",
            " 96% 7.00M/7.28M [00:00<00:00, 71.0MB/s]\n",
            "100% 7.28M/7.28M [00:00<00:00, 66.1MB/s]\n",
            "Downloading apps.zip to /content\n",
            " 53% 9.00M/17.0M [00:00<00:00, 37.4MB/s]\n",
            "100% 17.0M/17.0M [00:00<00:00, 47.9MB/s]\n",
            "Downloading test_users.tsv to /content\n",
            "  0% 0.00/229k [00:00<?, ?B/s]\n",
            "100% 229k/229k [00:00<00:00, 121MB/s]\n",
            "Downloading users.tsv.zip to /content\n",
            "  0% 0.00/8.26M [00:00<?, ?B/s]\n",
            "100% 8.26M/8.26M [00:00<00:00, 75.8MB/s]\n",
            "Downloading user_history.tsv.zip to /content\n",
            " 66% 11.0M/16.6M [00:00<00:00, 32.8MB/s]\n",
            "100% 16.6M/16.6M [00:00<00:00, 37.3MB/s]\n",
            "Downloading apps.tsv.zip to /content\n",
            " 53% 9.00M/17.0M [00:00<00:00, 29.4MB/s]\n",
            "100% 17.0M/17.0M [00:00<00:00, 48.5MB/s]\n",
            "Downloading users.zip to /content\n",
            " 62% 5.00M/8.11M [00:00<00:00, 38.1MB/s]\n",
            "100% 8.11M/8.11M [00:00<00:00, 51.9MB/s]\n",
            "Downloading splitjobs.zip to /content\n",
            " 99% 663M/671M [00:09<00:00, 63.0MB/s]\n",
            "100% 671M/671M [00:10<00:00, 70.3MB/s]\n"
          ],
          "name": "stdout"
        }
      ]
    },
    {
      "cell_type": "code",
      "metadata": {
        "colab": {
          "base_uri": "https://localhost:8080/"
        },
        "id": "mTQc64t5IZer",
        "outputId": "0a138979-8a2e-4fee-8cfb-d589723f9624"
      },
      "source": [
        "# Check downloaded files\n",
        "!ls /content"
      ],
      "execution_count": null,
      "outputs": [
        {
          "output_type": "stream",
          "text": [
            "apps.tsv.zip  popular_jobs.csv.zip  test_users.tsv\t  users.tsv.zip\n",
            "apps.zip      popular_jobs.py\t    test_users.zip\t  users.zip\n",
            "jobs.zip      sample_data\t    user_history.tsv.zip  window_dates.tsv\n",
            "kaggle.json   splitjobs.zip\t    user_history.zip\n"
          ],
          "name": "stdout"
        }
      ]
    },
    {
      "cell_type": "code",
      "metadata": {
        "colab": {
          "base_uri": "https://localhost:8080/"
        },
        "id": "iUitEAiPIcLZ",
        "outputId": "9fe20759-532b-4638-b1f5-ab01f45ce052"
      },
      "source": [
        "# Unzip downloaded Datasets\n",
        "\n",
        "!unzip /content/apps.tsv.zip\n",
        "!unzip /content/jobs.zip\n",
        "!unzip /content/users.tsv.zip"
      ],
      "execution_count": null,
      "outputs": [
        {
          "output_type": "stream",
          "text": [
            "Archive:  /content/apps.tsv.zip\n",
            "replace apps.tsv? [y]es, [n]o, [A]ll, [N]one, [r]ename: Archive:  /content/jobs.zip\n",
            "replace jobs.tsv? [y]es, [n]o, [A]ll, [N]one, [r]ename: Archive:  /content/users.tsv.zip\n",
            "replace users.tsv? [y]es, [n]o, [A]ll, [N]one, [r]ename: "
          ],
          "name": "stdout"
        }
      ]
    },
    {
      "cell_type": "code",
      "metadata": {
        "colab": {
          "base_uri": "https://localhost:8080/"
        },
        "id": "_7lRn8dKJMij",
        "outputId": "2ca45b12-d2c9-4980-c08e-56771aed8e67"
      },
      "source": [
        "# Read datasets as variables\n",
        "\n",
        "jobs = pd.read_csv('/content/jobs.tsv', delimiter='\\t',encoding='utf-8', error_bad_lines=False)\n",
        "apps = pd.read_csv('/content/apps.tsv', delimiter='\\t',encoding='utf-8')\n",
        "users = pd.read_csv('/content/users.tsv' ,delimiter='\\t',encoding='utf-8')"
      ],
      "execution_count": null,
      "outputs": [
        {
          "output_type": "stream",
          "text": [
            "b'Skipping line 122433: expected 11 fields, saw 12\\n'\n",
            "b'Skipping line 602576: expected 11 fields, saw 12\\n'\n",
            "b'Skipping line 990950: expected 11 fields, saw 12\\n'\n"
          ],
          "name": "stderr"
        }
      ]
    },
    {
      "cell_type": "code",
      "metadata": {
        "id": "aZw7lTsAJTZ9"
      },
      "source": [
        "# Split data into training and testing\n",
        "\n",
        "apps_training = apps.loc[apps['Split'] == 'Train']\n",
        "apps_testing = apps.loc[apps['Split'] == 'Test']\n",
        "users_training = users.loc[users['Split']=='Train']\n",
        "users_testing = users.loc[users['Split']=='Test']"
      ],
      "execution_count": null,
      "outputs": []
    },
    {
      "cell_type": "markdown",
      "metadata": {
        "id": "UFjxyTn1Kua2"
      },
      "source": [
        "# Exploratory Data Analysis"
      ]
    },
    {
      "cell_type": "code",
      "metadata": {
        "colab": {
          "base_uri": "https://localhost:8080/",
          "height": 194
        },
        "id": "BC7wXAhWL7YL",
        "outputId": "a6c280bc-f9a3-46c0-8bfc-61fd5169c1f8"
      },
      "source": [
        "# Check users data\n",
        "users_training.head()"
      ],
      "execution_count": null,
      "outputs": [
        {
          "output_type": "execute_result",
          "data": {
            "text/html": [
              "<div>\n",
              "<style scoped>\n",
              "    .dataframe tbody tr th:only-of-type {\n",
              "        vertical-align: middle;\n",
              "    }\n",
              "\n",
              "    .dataframe tbody tr th {\n",
              "        vertical-align: top;\n",
              "    }\n",
              "\n",
              "    .dataframe thead th {\n",
              "        text-align: right;\n",
              "    }\n",
              "</style>\n",
              "<table border=\"1\" class=\"dataframe\">\n",
              "  <thead>\n",
              "    <tr style=\"text-align: right;\">\n",
              "      <th></th>\n",
              "      <th>UserID</th>\n",
              "      <th>WindowID</th>\n",
              "      <th>Split</th>\n",
              "      <th>City</th>\n",
              "      <th>State</th>\n",
              "      <th>Country</th>\n",
              "      <th>ZipCode</th>\n",
              "      <th>DegreeType</th>\n",
              "      <th>Major</th>\n",
              "      <th>GraduationDate</th>\n",
              "      <th>WorkHistoryCount</th>\n",
              "      <th>TotalYearsExperience</th>\n",
              "      <th>CurrentlyEmployed</th>\n",
              "      <th>ManagedOthers</th>\n",
              "      <th>ManagedHowMany</th>\n",
              "    </tr>\n",
              "  </thead>\n",
              "  <tbody>\n",
              "    <tr>\n",
              "      <th>0</th>\n",
              "      <td>47</td>\n",
              "      <td>1</td>\n",
              "      <td>Train</td>\n",
              "      <td>Paramount</td>\n",
              "      <td>CA</td>\n",
              "      <td>US</td>\n",
              "      <td>90723</td>\n",
              "      <td>High School</td>\n",
              "      <td>NaN</td>\n",
              "      <td>1999-06-01 00:00:00</td>\n",
              "      <td>3</td>\n",
              "      <td>10.0</td>\n",
              "      <td>Yes</td>\n",
              "      <td>No</td>\n",
              "      <td>0</td>\n",
              "    </tr>\n",
              "    <tr>\n",
              "      <th>1</th>\n",
              "      <td>72</td>\n",
              "      <td>1</td>\n",
              "      <td>Train</td>\n",
              "      <td>La Mesa</td>\n",
              "      <td>CA</td>\n",
              "      <td>US</td>\n",
              "      <td>91941</td>\n",
              "      <td>Master's</td>\n",
              "      <td>Anthropology</td>\n",
              "      <td>2011-01-01 00:00:00</td>\n",
              "      <td>10</td>\n",
              "      <td>8.0</td>\n",
              "      <td>Yes</td>\n",
              "      <td>No</td>\n",
              "      <td>0</td>\n",
              "    </tr>\n",
              "    <tr>\n",
              "      <th>2</th>\n",
              "      <td>80</td>\n",
              "      <td>1</td>\n",
              "      <td>Train</td>\n",
              "      <td>Williamstown</td>\n",
              "      <td>NJ</td>\n",
              "      <td>US</td>\n",
              "      <td>08094</td>\n",
              "      <td>High School</td>\n",
              "      <td>Not Applicable</td>\n",
              "      <td>1985-06-01 00:00:00</td>\n",
              "      <td>5</td>\n",
              "      <td>11.0</td>\n",
              "      <td>Yes</td>\n",
              "      <td>Yes</td>\n",
              "      <td>5</td>\n",
              "    </tr>\n",
              "    <tr>\n",
              "      <th>3</th>\n",
              "      <td>98</td>\n",
              "      <td>1</td>\n",
              "      <td>Train</td>\n",
              "      <td>Astoria</td>\n",
              "      <td>NY</td>\n",
              "      <td>US</td>\n",
              "      <td>11105</td>\n",
              "      <td>Master's</td>\n",
              "      <td>Journalism</td>\n",
              "      <td>2007-05-01 00:00:00</td>\n",
              "      <td>3</td>\n",
              "      <td>3.0</td>\n",
              "      <td>Yes</td>\n",
              "      <td>No</td>\n",
              "      <td>0</td>\n",
              "    </tr>\n",
              "    <tr>\n",
              "      <th>4</th>\n",
              "      <td>123</td>\n",
              "      <td>1</td>\n",
              "      <td>Train</td>\n",
              "      <td>Baton Rouge</td>\n",
              "      <td>LA</td>\n",
              "      <td>US</td>\n",
              "      <td>70808</td>\n",
              "      <td>Bachelor's</td>\n",
              "      <td>Agricultural Business</td>\n",
              "      <td>2011-05-01 00:00:00</td>\n",
              "      <td>1</td>\n",
              "      <td>9.0</td>\n",
              "      <td>Yes</td>\n",
              "      <td>No</td>\n",
              "      <td>0</td>\n",
              "    </tr>\n",
              "  </tbody>\n",
              "</table>\n",
              "</div>"
            ],
            "text/plain": [
              "   UserID  WindowID  Split  ... CurrentlyEmployed ManagedOthers ManagedHowMany\n",
              "0      47         1  Train  ...               Yes            No              0\n",
              "1      72         1  Train  ...               Yes            No              0\n",
              "2      80         1  Train  ...               Yes           Yes              5\n",
              "3      98         1  Train  ...               Yes            No              0\n",
              "4     123         1  Train  ...               Yes            No              0\n",
              "\n",
              "[5 rows x 15 columns]"
            ]
          },
          "metadata": {
            "tags": []
          },
          "execution_count": 21
        }
      ]
    },
    {
      "cell_type": "code",
      "metadata": {
        "colab": {
          "base_uri": "https://localhost:8080/",
          "height": 194
        },
        "id": "XVuqHwe-J7WG",
        "outputId": "43acb916-2edc-4747-9346-eb838a779c18"
      },
      "source": [
        "# Check user availability by country\n",
        "user_by_country = users.groupby(['Country']).size().reset_index(name='User Amount').sort_values('User Amount',  ascending=False)\n",
        "user_by_country.head()"
      ],
      "execution_count": null,
      "outputs": [
        {
          "output_type": "execute_result",
          "data": {
            "text/html": [
              "<div>\n",
              "<style scoped>\n",
              "    .dataframe tbody tr th:only-of-type {\n",
              "        vertical-align: middle;\n",
              "    }\n",
              "\n",
              "    .dataframe tbody tr th {\n",
              "        vertical-align: top;\n",
              "    }\n",
              "\n",
              "    .dataframe thead th {\n",
              "        text-align: right;\n",
              "    }\n",
              "</style>\n",
              "<table border=\"1\" class=\"dataframe\">\n",
              "  <thead>\n",
              "    <tr style=\"text-align: right;\">\n",
              "      <th></th>\n",
              "      <th>Country</th>\n",
              "      <th>User Amount</th>\n",
              "    </tr>\n",
              "  </thead>\n",
              "  <tbody>\n",
              "    <tr>\n",
              "      <th>110</th>\n",
              "      <td>US</td>\n",
              "      <td>388499</td>\n",
              "    </tr>\n",
              "    <tr>\n",
              "      <th>48</th>\n",
              "      <td>IN</td>\n",
              "      <td>258</td>\n",
              "    </tr>\n",
              "    <tr>\n",
              "      <th>19</th>\n",
              "      <td>CA</td>\n",
              "      <td>113</td>\n",
              "    </tr>\n",
              "    <tr>\n",
              "      <th>85</th>\n",
              "      <td>PK</td>\n",
              "      <td>65</td>\n",
              "    </tr>\n",
              "    <tr>\n",
              "      <th>84</th>\n",
              "      <td>PH</td>\n",
              "      <td>60</td>\n",
              "    </tr>\n",
              "  </tbody>\n",
              "</table>\n",
              "</div>"
            ],
            "text/plain": [
              "    Country  User Amount\n",
              "110      US       388499\n",
              "48       IN          258\n",
              "19       CA          113\n",
              "85       PK           65\n",
              "84       PH           60"
            ]
          },
          "metadata": {
            "tags": []
          },
          "execution_count": 23
        }
      ]
    },
    {
      "cell_type": "code",
      "metadata": {
        "colab": {
          "base_uri": "https://localhost:8080/",
          "height": 729
        },
        "id": "67AQUdKGLHSo",
        "outputId": "de507c1a-80a8-41a7-d373-f83262cb582e"
      },
      "source": [
        "# Plot a graph\n",
        "plt.figure(figsize=(15,10))\n",
        "ax = sns.barplot(x=\"Country\", y=\"User Amount\", data=user_by_country)\n",
        "ax.set_xticklabels(ax.get_xticklabels(), rotation=90, ha=\"right\")\n",
        "ax.set_title('User Availability by Country')\n",
        "plt.tight_layout()\n",
        "plt.show()"
      ],
      "execution_count": null,
      "outputs": [
        {
          "output_type": "display_data",
          "data": {
            "image/png": "[encoded data removed]",
            "text/plain": [
              "<Figure size 1080x720 with 1 Axes>"
            ]
          },
          "metadata": {
            "tags": [],
            "needs_background": "light"
          }
        }
      ]
    },
    {
      "cell_type": "code",
      "metadata": {
        "id": "jNMOvcOfLLs4"
      },
      "source": [
        "# Filter user to only US Job seekers\n",
        "user_filtered = users_training.loc[users_training['Country']=='US']"
      ],
      "execution_count": null,
      "outputs": []
    },
    {
      "cell_type": "code",
      "metadata": {
        "colab": {
          "base_uri": "https://localhost:8080/",
          "height": 194
        },
        "id": "2X1wixLHLN7K",
        "outputId": "5d9b84d2-691e-4efc-abf2-68c6b6afe51f"
      },
      "source": [
        "# Only take columns 0-12 into consideration\n",
        "user_final = user_filtered.iloc[0:10000,0:12]\n",
        "user_final.head()"
      ],
      "execution_count": null,
      "outputs": [
        {
          "output_type": "execute_result",
          "data": {
            "text/html": [
              "<div>\n",
              "<style scoped>\n",
              "    .dataframe tbody tr th:only-of-type {\n",
              "        vertical-align: middle;\n",
              "    }\n",
              "\n",
              "    .dataframe tbody tr th {\n",
              "        vertical-align: top;\n",
              "    }\n",
              "\n",
              "    .dataframe thead th {\n",
              "        text-align: right;\n",
              "    }\n",
              "</style>\n",
              "<table border=\"1\" class=\"dataframe\">\n",
              "  <thead>\n",
              "    <tr style=\"text-align: right;\">\n",
              "      <th></th>\n",
              "      <th>UserID</th>\n",
              "      <th>WindowID</th>\n",
              "      <th>Split</th>\n",
              "      <th>City</th>\n",
              "      <th>State</th>\n",
              "      <th>Country</th>\n",
              "      <th>ZipCode</th>\n",
              "      <th>DegreeType</th>\n",
              "      <th>Major</th>\n",
              "      <th>GraduationDate</th>\n",
              "      <th>WorkHistoryCount</th>\n",
              "      <th>TotalYearsExperience</th>\n",
              "    </tr>\n",
              "  </thead>\n",
              "  <tbody>\n",
              "    <tr>\n",
              "      <th>0</th>\n",
              "      <td>47</td>\n",
              "      <td>1</td>\n",
              "      <td>Train</td>\n",
              "      <td>Paramount</td>\n",
              "      <td>CA</td>\n",
              "      <td>US</td>\n",
              "      <td>90723</td>\n",
              "      <td>High School</td>\n",
              "      <td>NaN</td>\n",
              "      <td>1999-06-01 00:00:00</td>\n",
              "      <td>3</td>\n",
              "      <td>10.0</td>\n",
              "    </tr>\n",
              "    <tr>\n",
              "      <th>1</th>\n",
              "      <td>72</td>\n",
              "      <td>1</td>\n",
              "      <td>Train</td>\n",
              "      <td>La Mesa</td>\n",
              "      <td>CA</td>\n",
              "      <td>US</td>\n",
              "      <td>91941</td>\n",
              "      <td>Master's</td>\n",
              "      <td>Anthropology</td>\n",
              "      <td>2011-01-01 00:00:00</td>\n",
              "      <td>10</td>\n",
              "      <td>8.0</td>\n",
              "    </tr>\n",
              "    <tr>\n",
              "      <th>2</th>\n",
              "      <td>80</td>\n",
              "      <td>1</td>\n",
              "      <td>Train</td>\n",
              "      <td>Williamstown</td>\n",
              "      <td>NJ</td>\n",
              "      <td>US</td>\n",
              "      <td>08094</td>\n",
              "      <td>High School</td>\n",
              "      <td>Not Applicable</td>\n",
              "      <td>1985-06-01 00:00:00</td>\n",
              "      <td>5</td>\n",
              "      <td>11.0</td>\n",
              "    </tr>\n",
              "    <tr>\n",
              "      <th>3</th>\n",
              "      <td>98</td>\n",
              "      <td>1</td>\n",
              "      <td>Train</td>\n",
              "      <td>Astoria</td>\n",
              "      <td>NY</td>\n",
              "      <td>US</td>\n",
              "      <td>11105</td>\n",
              "      <td>Master's</td>\n",
              "      <td>Journalism</td>\n",
              "      <td>2007-05-01 00:00:00</td>\n",
              "      <td>3</td>\n",
              "      <td>3.0</td>\n",
              "    </tr>\n",
              "    <tr>\n",
              "      <th>4</th>\n",
              "      <td>123</td>\n",
              "      <td>1</td>\n",
              "      <td>Train</td>\n",
              "      <td>Baton Rouge</td>\n",
              "      <td>LA</td>\n",
              "      <td>US</td>\n",
              "      <td>70808</td>\n",
              "      <td>Bachelor's</td>\n",
              "      <td>Agricultural Business</td>\n",
              "      <td>2011-05-01 00:00:00</td>\n",
              "      <td>1</td>\n",
              "      <td>9.0</td>\n",
              "    </tr>\n",
              "  </tbody>\n",
              "</table>\n",
              "</div>"
            ],
            "text/plain": [
              "   UserID  WindowID  ... WorkHistoryCount TotalYearsExperience\n",
              "0      47         1  ...                3                 10.0\n",
              "1      72         1  ...               10                  8.0\n",
              "2      80         1  ...                5                 11.0\n",
              "3      98         1  ...                3                  3.0\n",
              "4     123         1  ...                1                  9.0\n",
              "\n",
              "[5 rows x 12 columns]"
            ]
          },
          "metadata": {
            "tags": []
          },
          "execution_count": 34
        }
      ]
    },
    {
      "cell_type": "code",
      "metadata": {
        "id": "E2d9UrZyNBfK"
      },
      "source": [
        "#Combine all features into new column\n",
        "user_final['DegreeType'] = user_final['DegreeType'].fillna('')\n",
        "user_final['Major'] = user_final['Major'].fillna('')\n",
        "user_final['TotalYearsExperience'] = str(user_final['TotalYearsExperience'].fillna(''))\n",
        "\n",
        "user_final['Features'] = user_final['DegreeType'] + user_final['Major'] + user_final['TotalYearsExperience']"
      ],
      "execution_count": null,
      "outputs": []
    },
    {
      "cell_type": "markdown",
      "metadata": {
        "id": "3xhoonN1Nhf7"
      },
      "source": [
        "# Extract Features from Texts using Tfidf"
      ]
    },
    {
      "cell_type": "code",
      "metadata": {
        "id": "ts12Jjr7Ndo2"
      },
      "source": [
        "# Define TFidfVectorizer and create features matrix\n",
        "tf_idf = TfidfVectorizer(analyzer='word',ngram_range=(1, 2),min_df=0, stop_words='english')\n",
        "tf_idf_matrix = tf_idf.fit_transform(user_final['Features'])"
      ],
      "execution_count": null,
      "outputs": []
    },
    {
      "cell_type": "markdown",
      "metadata": {
        "id": "BoIUJJrDNrLi"
      },
      "source": [
        "# Compute Similarity using Cosine Similarity"
      ]
    },
    {
      "cell_type": "code",
      "metadata": {
        "id": "7rW6r4LyNocO"
      },
      "source": [
        "# Tfidf gives normalized vectors, linear_kernel will give the same result as cosine_similarity\n",
        "# linear_kernel is computationally faster\n",
        "similarity = linear_kernel(tf_idf_matrix, tf_idf_matrix)"
      ],
      "execution_count": null,
      "outputs": []
    },
    {
      "cell_type": "code",
      "metadata": {
        "colab": {
          "base_uri": "https://localhost:8080/"
        },
        "id": "sxaS2TTtNxDC",
        "outputId": "4ccca6bb-2df6-47e7-fff9-60974526673e"
      },
      "source": [
        "similarity.shape"
      ],
      "execution_count": null,
      "outputs": [
        {
          "output_type": "execute_result",
          "data": {
            "text/plain": [
              "(10000, 10000)"
            ]
          },
          "metadata": {
            "tags": []
          },
          "execution_count": 38
        }
      ]
    },
    {
      "cell_type": "code",
      "metadata": {
        "id": "mc0fEbP2N1QF"
      },
      "source": [
        "# Reset index for users ID\n",
        "user_final = user_final.reset_index()\n",
        "userid = user_final['UserID']\n",
        "indices = pd.Series(user_final.index, index=user_final['UserID'])"
      ],
      "execution_count": null,
      "outputs": []
    },
    {
      "cell_type": "code",
      "metadata": {
        "id": "nQSuUr2sOCdg"
      },
      "source": [
        "def get_recommendations_userwise(useridnum):\n",
        "    idx = indices[useridnum]\n",
        "    #print (idx)\n",
        "    sim_scores = list(enumerate(similarity[idx]))\n",
        "    #print (sim_scores)\n",
        "    sim_scores = sorted(sim_scores, key=lambda x: x[1], reverse=True)\n",
        "    user_indices = [i[0] for i in sim_scores]\n",
        "    #print (user_indices)\n",
        "    return userid[user_indices[1:11]].values.tolist()"
      ],
      "execution_count": null,
      "outputs": []
    },
    {
      "cell_type": "code",
      "metadata": {
        "colab": {
          "base_uri": "https://localhost:8080/"
        },
        "id": "YD66ZtmsOIcz",
        "outputId": "8697e4d1-a392-4c35-b77b-79183b2e1dc4"
      },
      "source": [
        "print (\"-----Top 10 Similar users with userId: 123------\")\n",
        "get_recommendations_userwise(123)"
      ],
      "execution_count": null,
      "outputs": [
        {
          "output_type": "stream",
          "text": [
            "-----Top 10 Similar users with userId: 123------\n"
          ],
          "name": "stdout"
        },
        {
          "output_type": "execute_result",
          "data": {
            "text/plain": [
              "[4095, 39199, 133161, 29118, 61859, 71735, 179432, 182995, 63776, 135105]"
            ]
          },
          "metadata": {
            "tags": []
          },
          "execution_count": 43
        }
      ]
    },
    {
      "cell_type": "code",
      "metadata": {
        "id": "op5FQNt-ORIU"
      },
      "source": [
        "def get_job_id(usrid_list):\n",
        "    jobs_userwise = apps_training['UserID'].isin(usrid_list)\n",
        "    df1 = pd.DataFrame(data = apps_training[jobs_userwise], columns=['JobID'])\n",
        "    joblist = df1['JobID'].tolist()\n",
        "    Job_list = jobs['JobID'].isin(joblist)\n",
        "    df_temp = pd.DataFrame(data = jobs[Job_list], columns=['JobID','Title','Description','City','State'])\n",
        "    return df_temp"
      ],
      "execution_count": null,
      "outputs": []
    },
    {
      "cell_type": "code",
      "metadata": {
        "colab": {
          "base_uri": "https://localhost:8080/",
          "height": 710
        },
        "id": "N8Z4_YFHOTRb",
        "outputId": "27e73d43-807e-478d-f7ab-51cec1e7452b"
      },
      "source": [
        "print(\"-----Top Recommended Jobs for userId: 123------\")\n",
        "get_job_id(get_recommendations_userwise(123))"
      ],
      "execution_count": null,
      "outputs": [
        {
          "output_type": "stream",
          "text": [
            "-----Top Recommended Jobs for userId: 123------\n"
          ],
          "name": "stdout"
        },
        {
          "output_type": "execute_result",
          "data": {
            "text/html": [
              "<div>\n",
              "<style scoped>\n",
              "    .dataframe tbody tr th:only-of-type {\n",
              "        vertical-align: middle;\n",
              "    }\n",
              "\n",
              "    .dataframe tbody tr th {\n",
              "        vertical-align: top;\n",
              "    }\n",
              "\n",
              "    .dataframe thead th {\n",
              "        text-align: right;\n",
              "    }\n",
              "</style>\n",
              "<table border=\"1\" class=\"dataframe\">\n",
              "  <thead>\n",
              "    <tr style=\"text-align: right;\">\n",
              "      <th></th>\n",
              "      <th>JobID</th>\n",
              "      <th>Title</th>\n",
              "      <th>Description</th>\n",
              "      <th>City</th>\n",
              "      <th>State</th>\n",
              "    </tr>\n",
              "  </thead>\n",
              "  <tbody>\n",
              "    <tr>\n",
              "      <th>1813</th>\n",
              "      <td>7456</td>\n",
              "      <td>Inside Sales Representative</td>\n",
              "      <td>&lt;SPAN&gt;American West Worldwide Express, a leade...</td>\n",
              "      <td>Mira Loma</td>\n",
              "      <td>CA</td>\n",
              "    </tr>\n",
              "    <tr>\n",
              "      <th>7355</th>\n",
              "      <td>27438</td>\n",
              "      <td>Broadband Sales Advisor</td>\n",
              "      <td>&lt;P style=\"TEXT-ALIGN: center\" align=center&gt;&lt;ST...</td>\n",
              "      <td>Fond du Lac</td>\n",
              "      <td>WI</td>\n",
              "    </tr>\n",
              "    <tr>\n",
              "      <th>46199</th>\n",
              "      <td>180366</td>\n",
              "      <td>Order Processor/Customer Service Rep</td>\n",
              "      <td>Volt Workforce Solutions is currently recruiti...</td>\n",
              "      <td>Palos Verdes Peninsula</td>\n",
              "      <td>CA</td>\n",
              "    </tr>\n",
              "    <tr>\n",
              "      <th>50610</th>\n",
              "      <td>198144</td>\n",
              "      <td>Supply Chain Planning Manager</td>\n",
              "      <td>INVISTA is the world's largest integrated prod...</td>\n",
              "      <td>Kennesaw</td>\n",
              "      <td>GA</td>\n",
              "    </tr>\n",
              "    <tr>\n",
              "      <th>63960</th>\n",
              "      <td>250919</td>\n",
              "      <td>Call Center Rep (Sales/Service) - West Covina</td>\n",
              "      <td>&lt;br /&gt;\\rImmediate Call Center Representative p...</td>\n",
              "      <td>West Covina</td>\n",
              "      <td>CA</td>\n",
              "    </tr>\n",
              "    <tr>\n",
              "      <th>68101</th>\n",
              "      <td>267068</td>\n",
              "      <td>Customer Service Specialist</td>\n",
              "      <td>&lt;p&gt;Immediate opening for a Customer Service Sp...</td>\n",
              "      <td>Cypress</td>\n",
              "      <td>CA</td>\n",
              "    </tr>\n",
              "    <tr>\n",
              "      <th>79814</th>\n",
              "      <td>313902</td>\n",
              "      <td>Customer Care Representative</td>\n",
              "      <td>&lt;p&gt;J. F. Ahern Co. has an excellent opportunit...</td>\n",
              "      <td>Fond du Lac</td>\n",
              "      <td>WI</td>\n",
              "    </tr>\n",
              "    <tr>\n",
              "      <th>112406</th>\n",
              "      <td>443789</td>\n",
              "      <td>Support Specialist III</td>\n",
              "      <td>POSTING: March 19, 2012 &lt;br&gt;\\r&lt;br&gt;\\rPOSITION: ...</td>\n",
              "      <td>Fond du Lac</td>\n",
              "      <td>WI</td>\n",
              "    </tr>\n",
              "    <tr>\n",
              "      <th>126823</th>\n",
              "      <td>498355</td>\n",
              "      <td>INSIDE SALES REPRESENTATIVE</td>\n",
              "      <td>&lt;P STYLE=\"MARGIN-TOP: 0px; MARGIN-BOTTOM: 0px\"...</td>\n",
              "      <td>Irvine</td>\n",
              "      <td>CA</td>\n",
              "    </tr>\n",
              "    <tr>\n",
              "      <th>153547</th>\n",
              "      <td>602298</td>\n",
              "      <td>Customer Service Rep.</td>\n",
              "      <td>Customer Service Customer Service Rep. SANTA M...</td>\n",
              "      <td>Rancho Dominguez</td>\n",
              "      <td>CA</td>\n",
              "    </tr>\n",
              "    <tr>\n",
              "      <th>156502</th>\n",
              "      <td>614377</td>\n",
              "      <td>Human Resources Assistant - Temporary</td>\n",
              "      <td>&lt;DIV&gt;\\r&lt;P&gt;&lt;SPAN&gt;Human Resources Assistant-Temp...</td>\n",
              "      <td>Menasha</td>\n",
              "      <td>WI</td>\n",
              "    </tr>\n",
              "    <tr>\n",
              "      <th>159027</th>\n",
              "      <td>622951</td>\n",
              "      <td>Admissions Representative</td>\n",
              "      <td>&lt;p&gt;Following initial training, the Admissions ...</td>\n",
              "      <td>Tempe</td>\n",
              "      <td>AZ</td>\n",
              "    </tr>\n",
              "    <tr>\n",
              "      <th>160494</th>\n",
              "      <td>628230</td>\n",
              "      <td>Administrative Support</td>\n",
              "      <td>&lt;p align=\"center\"&gt;&lt;br&gt;\\r&lt;strong&gt;FT Admin suppo...</td>\n",
              "      <td>Sheboygan Falls</td>\n",
              "      <td>WI</td>\n",
              "    </tr>\n",
              "    <tr>\n",
              "      <th>166446</th>\n",
              "      <td>650313</td>\n",
              "      <td>Customer Service</td>\n",
              "      <td>&lt;p&gt;&lt;b&gt;Position Summary &lt;/b&gt;&lt;b&gt;&lt;br /&gt;\\r&lt;/b&gt;The ...</td>\n",
              "      <td>City of Industry</td>\n",
              "      <td>CA</td>\n",
              "    </tr>\n",
              "    <tr>\n",
              "      <th>190710</th>\n",
              "      <td>749164</td>\n",
              "      <td>Inside Sales</td>\n",
              "      <td>&lt;STRONG&gt;INSIDE SALES&lt;BR&gt;\\r&lt;BR&gt;\\r&lt;/STRONG&gt;If yo...</td>\n",
              "      <td>Irvine</td>\n",
              "      <td>CA</td>\n",
              "    </tr>\n",
              "    <tr>\n",
              "      <th>203620</th>\n",
              "      <td>797796</td>\n",
              "      <td>Customer Account Specialist</td>\n",
              "      <td>&lt;P STYLE=\"MARGIN-TOP: 0px; MARGIN-BOTTOM: 0px\"...</td>\n",
              "      <td>Buena Park</td>\n",
              "      <td>CA</td>\n",
              "    </tr>\n",
              "    <tr>\n",
              "      <th>225551</th>\n",
              "      <td>884685</td>\n",
              "      <td>Account Manager – CRM Sales</td>\n",
              "      <td>&lt;p&gt;&lt;span&gt;We are looking for energetic and enth...</td>\n",
              "      <td>Pasadena</td>\n",
              "      <td>CA</td>\n",
              "    </tr>\n",
              "    <tr>\n",
              "      <th>230599</th>\n",
              "      <td>903854</td>\n",
              "      <td>Planner/Buyer</td>\n",
              "      <td>&lt;p style=\"text-align: justify;\"&gt;&lt;strong&gt;&lt;span&gt;...</td>\n",
              "      <td>Atlanta</td>\n",
              "      <td>GA</td>\n",
              "    </tr>\n",
              "    <tr>\n",
              "      <th>235296</th>\n",
              "      <td>920893</td>\n",
              "      <td>Customer Service Representative</td>\n",
              "      <td>&lt;p&gt;&lt;b&gt;&lt;span&gt;Customer Service Representative&lt;/s...</td>\n",
              "      <td>Lake Forest</td>\n",
              "      <td>CA</td>\n",
              "    </tr>\n",
              "    <tr>\n",
              "      <th>258012</th>\n",
              "      <td>1011468</td>\n",
              "      <td>Supply Planner</td>\n",
              "      <td>Strong Global Company is adding a Planner of s...</td>\n",
              "      <td>Houston</td>\n",
              "      <td>TX</td>\n",
              "    </tr>\n",
              "    <tr>\n",
              "      <th>266949</th>\n",
              "      <td>1044904</td>\n",
              "      <td>Construction Manager</td>\n",
              "      <td>Yoh has a contract opportunity for a &lt;strong&gt;C...</td>\n",
              "      <td>Philadelphia</td>\n",
              "      <td>PA</td>\n",
              "    </tr>\n",
              "    <tr>\n",
              "      <th>278638</th>\n",
              "      <td>1090860</td>\n",
              "      <td>Purchasing/Buyer Coordinator</td>\n",
              "      <td>&lt;p&gt;Provides Purchasing with administrative sup...</td>\n",
              "      <td>Atlanta</td>\n",
              "      <td>GA</td>\n",
              "    </tr>\n",
              "  </tbody>\n",
              "</table>\n",
              "</div>"
            ],
            "text/plain": [
              "          JobID  ... State\n",
              "1813       7456  ...    CA\n",
              "7355      27438  ...    WI\n",
              "46199    180366  ...    CA\n",
              "50610    198144  ...    GA\n",
              "63960    250919  ...    CA\n",
              "68101    267068  ...    CA\n",
              "79814    313902  ...    WI\n",
              "112406   443789  ...    WI\n",
              "126823   498355  ...    CA\n",
              "153547   602298  ...    CA\n",
              "156502   614377  ...    WI\n",
              "159027   622951  ...    AZ\n",
              "160494   628230  ...    WI\n",
              "166446   650313  ...    CA\n",
              "190710   749164  ...    CA\n",
              "203620   797796  ...    CA\n",
              "225551   884685  ...    CA\n",
              "230599   903854  ...    GA\n",
              "235296   920893  ...    CA\n",
              "258012  1011468  ...    TX\n",
              "266949  1044904  ...    PA\n",
              "278638  1090860  ...    GA\n",
              "\n",
              "[22 rows x 5 columns]"
            ]
          },
          "metadata": {
            "tags": []
          },
          "execution_count": 46
        }
      ]
    },
    {
      "cell_type": "code",
      "metadata": {
        "colab": {
          "base_uri": "https://localhost:8080/"
        },
        "id": "Sri2A-Z6O8Rk",
        "outputId": "1ee4d109-247e-4ab9-ed3b-b74c0ec3b39d"
      },
      "source": [
        "print (\"-----Top 10 Similar users with userId: 47------\")\n",
        "get_recommendations_userwise(47)"
      ],
      "execution_count": null,
      "outputs": [
        {
          "output_type": "stream",
          "text": [
            "-----Top 10 Similar users with userId: 47------\n"
          ],
          "name": "stdout"
        },
        {
          "output_type": "execute_result",
          "data": {
            "text/plain": [
              "[2386, 3594, 4740, 8828, 9337, 9886, 10635, 10904, 12332, 13838]"
            ]
          },
          "metadata": {
            "tags": []
          },
          "execution_count": 47
        }
      ]
    },
    {
      "cell_type": "code",
      "metadata": {
        "colab": {
          "base_uri": "https://localhost:8080/",
          "height": 769
        },
        "id": "yZ22aMfuO-0i",
        "outputId": "ecb5fa10-93b6-4287-d818-36729ba9c086"
      },
      "source": [
        "print(\"-----Top Recommended Jobs for userId: 47------\")\n",
        "get_job_id(get_recommendations_userwise(47))"
      ],
      "execution_count": null,
      "outputs": [
        {
          "output_type": "stream",
          "text": [
            "-----Top Recommended Jobs for userId: 47------\n"
          ],
          "name": "stdout"
        },
        {
          "output_type": "execute_result",
          "data": {
            "text/html": [
              "<div>\n",
              "<style scoped>\n",
              "    .dataframe tbody tr th:only-of-type {\n",
              "        vertical-align: middle;\n",
              "    }\n",
              "\n",
              "    .dataframe tbody tr th {\n",
              "        vertical-align: top;\n",
              "    }\n",
              "\n",
              "    .dataframe thead th {\n",
              "        text-align: right;\n",
              "    }\n",
              "</style>\n",
              "<table border=\"1\" class=\"dataframe\">\n",
              "  <thead>\n",
              "    <tr style=\"text-align: right;\">\n",
              "      <th></th>\n",
              "      <th>JobID</th>\n",
              "      <th>Title</th>\n",
              "      <th>Description</th>\n",
              "      <th>City</th>\n",
              "      <th>State</th>\n",
              "    </tr>\n",
              "  </thead>\n",
              "  <tbody>\n",
              "    <tr>\n",
              "      <th>14446</th>\n",
              "      <td>54371</td>\n",
              "      <td>Assistant Manager - Self Storage</td>\n",
              "      <td>&lt;strong&gt;Self Storage - Assistant Manager&lt;br&gt;\\r...</td>\n",
              "      <td>Honolulu</td>\n",
              "      <td>HI</td>\n",
              "    </tr>\n",
              "    <tr>\n",
              "      <th>41730</th>\n",
              "      <td>165188</td>\n",
              "      <td>RETAIL SALES ASSOCIATE</td>\n",
              "      <td>&lt;p&gt;Jewelry Sales&lt;/p&gt;\\r&lt;p&gt;&amp;nbsp;&lt;/p&gt;\\r&lt;p&gt;&lt;b&gt;EXC...</td>\n",
              "      <td>Honolulu</td>\n",
              "      <td>HI</td>\n",
              "    </tr>\n",
              "    <tr>\n",
              "      <th>43561</th>\n",
              "      <td>171879</td>\n",
              "      <td>SR Secretary</td>\n",
              "      <td>&lt;div&gt;\\r&lt;p&gt;&lt;b&gt;&lt;span&gt;SUMMARY&lt;/span&gt;&lt;/b&gt;&lt;span&gt;&lt;br...</td>\n",
              "      <td>Goldsboro</td>\n",
              "      <td>NC</td>\n",
              "    </tr>\n",
              "    <tr>\n",
              "      <th>45800</th>\n",
              "      <td>179675</td>\n",
              "      <td>Assistant Manager - Bakery</td>\n",
              "      <td>&lt;p&gt;&lt;b&gt;&lt;span&gt;SUMMARY: &lt;/span&gt;&lt;/b&gt;&lt;span&gt;The Bake...</td>\n",
              "      <td>Honolulu</td>\n",
              "      <td>HI</td>\n",
              "    </tr>\n",
              "    <tr>\n",
              "      <th>47079</th>\n",
              "      <td>184511</td>\n",
              "      <td>Assistant Restaurant Manager - Ala Moana</td>\n",
              "      <td>Nordstrom is a fashion specialty retailer foun...</td>\n",
              "      <td>Honolulu</td>\n",
              "      <td>HI</td>\n",
              "    </tr>\n",
              "    <tr>\n",
              "      <th>58681</th>\n",
              "      <td>230536</td>\n",
              "      <td>Counter Sales Representative</td>\n",
              "      <td>Do you enjoy a fast paced sales environment? D...</td>\n",
              "      <td>Honolulu</td>\n",
              "      <td>HI</td>\n",
              "    </tr>\n",
              "    <tr>\n",
              "      <th>79780</th>\n",
              "      <td>313825</td>\n",
              "      <td>Personal Home Assistant</td>\n",
              "      <td>&lt;div style=\"text-align: center\"&gt;&lt;strong&gt;&lt;span ...</td>\n",
              "      <td>Honolulu</td>\n",
              "      <td>HI</td>\n",
              "    </tr>\n",
              "    <tr>\n",
              "      <th>100845</th>\n",
              "      <td>395890</td>\n",
              "      <td>Retail Assistant Manager</td>\n",
              "      <td>&lt;p&gt;Badcock Home Furniture &amp; more is one of the...</td>\n",
              "      <td>Goldsboro</td>\n",
              "      <td>NC</td>\n",
              "    </tr>\n",
              "    <tr>\n",
              "      <th>117019</th>\n",
              "      <td>461927</td>\n",
              "      <td>Territory Sales Manager (Knoxville, TN)</td>\n",
              "      <td>Territory Sales Manager\\r\\nTerritory Sales Man...</td>\n",
              "      <td>Knoxville</td>\n",
              "      <td>TN</td>\n",
              "    </tr>\n",
              "    <tr>\n",
              "      <th>118098</th>\n",
              "      <td>466263</td>\n",
              "      <td>Telecom Field Technician</td>\n",
              "      <td>&lt;p&gt;&lt;span&gt;• Proficiency in primary skills of cu...</td>\n",
              "      <td>Washington</td>\n",
              "      <td>DC</td>\n",
              "    </tr>\n",
              "    <tr>\n",
              "      <th>118555</th>\n",
              "      <td>466960</td>\n",
              "      <td>Customer Service Specialist</td>\n",
              "      <td>&lt;strong&gt;Classification: &lt;/strong&gt;  Customer Se...</td>\n",
              "      <td>Kapolei</td>\n",
              "      <td>HI</td>\n",
              "    </tr>\n",
              "    <tr>\n",
              "      <th>120035</th>\n",
              "      <td>473174</td>\n",
              "      <td>Entry Level Account Manager</td>\n",
              "      <td>&lt;p&gt;State Industrial Products, founded in 1911,...</td>\n",
              "      <td>Knoxville</td>\n",
              "      <td>TN</td>\n",
              "    </tr>\n",
              "    <tr>\n",
              "      <th>139605</th>\n",
              "      <td>548874</td>\n",
              "      <td>Clerical</td>\n",
              "      <td>Asap</td>\n",
              "      <td>Goldsboro</td>\n",
              "      <td>NC</td>\n",
              "    </tr>\n",
              "    <tr>\n",
              "      <th>155907</th>\n",
              "      <td>612087</td>\n",
              "      <td>GENERAL, ASSISTANT &amp; SHIFT MANAGERS</td>\n",
              "      <td>&lt;p&gt;WILCOHESS, LLC (dba WILCO), a regional lead...</td>\n",
              "      <td>Asheboro</td>\n",
              "      <td>NC</td>\n",
              "    </tr>\n",
              "    <tr>\n",
              "      <th>162154</th>\n",
              "      <td>634124</td>\n",
              "      <td>Store Manager - Home Furniture</td>\n",
              "      <td>&lt;b&gt;\\r&lt;center&gt;Store Manager&lt;/center&gt;&lt;/b&gt;&lt;br&gt;\\r&lt;...</td>\n",
              "      <td>Hartwell</td>\n",
              "      <td>GA</td>\n",
              "    </tr>\n",
              "    <tr>\n",
              "      <th>163922</th>\n",
              "      <td>640533</td>\n",
              "      <td>WAREHOUSE MANAGER</td>\n",
              "      <td>&lt;p style=\"text-align: center\" align=\"center\"&gt;&lt;...</td>\n",
              "      <td>Honolulu</td>\n",
              "      <td>HI</td>\n",
              "    </tr>\n",
              "    <tr>\n",
              "      <th>165649</th>\n",
              "      <td>647322</td>\n",
              "      <td>Clerical Office Administrator</td>\n",
              "      <td>&lt;ul&gt;\\r    &lt;p&gt;&lt;strong&gt;Job Description&lt;/strong&gt; ...</td>\n",
              "      <td>Carlisle</td>\n",
              "      <td>PA</td>\n",
              "    </tr>\n",
              "    <tr>\n",
              "      <th>176025</th>\n",
              "      <td>688229</td>\n",
              "      <td>Food Specialist (Cook) - Child Care/Preschool</td>\n",
              "      <td>&lt;p style=\" \"&gt;\\r&lt;div style=\"text-align: center;...</td>\n",
              "      <td>Chandler</td>\n",
              "      <td>AZ</td>\n",
              "    </tr>\n",
              "    <tr>\n",
              "      <th>208143</th>\n",
              "      <td>814970</td>\n",
              "      <td>Customer Service Representative / Customer Ser...</td>\n",
              "      <td>&lt;p&gt;&lt;span&gt;Customer Service Representative Job D...</td>\n",
              "      <td>Honolulu</td>\n",
              "      <td>HI</td>\n",
              "    </tr>\n",
              "    <tr>\n",
              "      <th>219535</th>\n",
              "      <td>859840</td>\n",
              "      <td>Food Service Manager</td>\n",
              "      <td>&lt;ul&gt;\\r    &lt;li&gt;&lt;em&gt;&lt;strong&gt;Recovery Innovations...</td>\n",
              "      <td>Phoenix</td>\n",
              "      <td>AZ</td>\n",
              "    </tr>\n",
              "    <tr>\n",
              "      <th>222815</th>\n",
              "      <td>872213</td>\n",
              "      <td>Warehouse Worker</td>\n",
              "      <td>Hiring for Warehouse workers, immediate openings!</td>\n",
              "      <td>Glendale</td>\n",
              "      <td>AZ</td>\n",
              "    </tr>\n",
              "    <tr>\n",
              "      <th>238946</th>\n",
              "      <td>934942</td>\n",
              "      <td>Retail Sales Representative - Knoxville, TN</td>\n",
              "      <td>COMPANY DESCRIPTION Nestlé Waters North Americ...</td>\n",
              "      <td>Knoxville</td>\n",
              "      <td>TN</td>\n",
              "    </tr>\n",
              "    <tr>\n",
              "      <th>241696</th>\n",
              "      <td>945643</td>\n",
              "      <td>Outside Sales Representative</td>\n",
              "      <td>&lt;p&gt;&lt;span&gt;If you are a self-motivated and outgo...</td>\n",
              "      <td>Knoxville</td>\n",
              "      <td>TN</td>\n",
              "    </tr>\n",
              "    <tr>\n",
              "      <th>247572</th>\n",
              "      <td>969192</td>\n",
              "      <td>Territory Sales Representative (East Central R...</td>\n",
              "      <td>&lt;p align=\"center\"&gt;&lt;span&gt;&lt;strong&gt;TERRITORY SALE...</td>\n",
              "      <td>Knoxville</td>\n",
              "      <td>TN</td>\n",
              "    </tr>\n",
              "  </tbody>\n",
              "</table>\n",
              "</div>"
            ],
            "text/plain": [
              "         JobID  ... State\n",
              "14446    54371  ...    HI\n",
              "41730   165188  ...    HI\n",
              "43561   171879  ...    NC\n",
              "45800   179675  ...    HI\n",
              "47079   184511  ...    HI\n",
              "58681   230536  ...    HI\n",
              "79780   313825  ...    HI\n",
              "100845  395890  ...    NC\n",
              "117019  461927  ...    TN\n",
              "118098  466263  ...    DC\n",
              "118555  466960  ...    HI\n",
              "120035  473174  ...    TN\n",
              "139605  548874  ...    NC\n",
              "155907  612087  ...    NC\n",
              "162154  634124  ...    GA\n",
              "163922  640533  ...    HI\n",
              "165649  647322  ...    PA\n",
              "176025  688229  ...    AZ\n",
              "208143  814970  ...    HI\n",
              "219535  859840  ...    AZ\n",
              "222815  872213  ...    AZ\n",
              "238946  934942  ...    TN\n",
              "241696  945643  ...    TN\n",
              "247572  969192  ...    TN\n",
              "\n",
              "[24 rows x 5 columns]"
            ]
          },
          "metadata": {
            "tags": []
          },
          "execution_count": 48
        }
      ]
    }
  ]
}